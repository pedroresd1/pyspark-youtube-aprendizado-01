{
 "cells": [
  {
   "cell_type": "code",
   "execution_count": 2,
   "id": "1a62f520-4b1c-47f3-a81c-dd844a798b49",
   "metadata": {},
   "outputs": [],
   "source": [
    "from pyspark.sql import SparkSession\n"
   ]
  },
  {
   "cell_type": "code",
   "execution_count": 3,
   "id": "704576dd-1242-41ae-bd2b-671fdfe31d2e",
   "metadata": {},
   "outputs": [],
   "source": [
    "spark = ( \n",
    " SparkSession\n",
    " .builder\n",
    "    .master(\"local[*]\")\n",
    " .appName('spark_sql')\n",
    " .getOrCreate()\n",
    ")"
   ]
  },
  {
   "cell_type": "code",
   "execution_count": 5,
   "id": "6f61c9f1-b6cd-4244-8e1f-48a29684d603",
   "metadata": {},
   "outputs": [],
   "source": [
    "df = (\n",
    "    spark\n",
    "    .read\n",
    "    .option('delimiter', ';')\n",
    "    .option('header', 'true')\n",
    "    .option('inferSchema', 'true')\n",
    "    .option('enconding', 'ISO-8859-1')\n",
    "    .csv('./dados/precos-gasolina-etanol-10.csv')\n",
    ")"
   ]
  },
  {
   "cell_type": "code",
   "execution_count": 6,
   "id": "4a109c85-7a0b-4c1f-9ed3-9acffefa669d",
   "metadata": {},
   "outputs": [
    {
     "name": "stdout",
     "output_type": "stream",
     "text": [
      "root\n",
      " |-- Regiao - Sigla: string (nullable = true)\n",
      " |-- Estado - Sigla: string (nullable = true)\n",
      " |-- Municipio: string (nullable = true)\n",
      " |-- Revenda: string (nullable = true)\n",
      " |-- CNPJ da Revenda: string (nullable = true)\n",
      " |-- Nome da Rua: string (nullable = true)\n",
      " |-- Numero Rua: string (nullable = true)\n",
      " |-- Complemento: string (nullable = true)\n",
      " |-- Bairro: string (nullable = true)\n",
      " |-- Cep: string (nullable = true)\n",
      " |-- Produto: string (nullable = true)\n",
      " |-- Data da Coleta: string (nullable = true)\n",
      " |-- Valor de Venda: string (nullable = true)\n",
      " |-- Valor de Compra: string (nullable = true)\n",
      " |-- Unidade de Medida: string (nullable = true)\n",
      " |-- Bandeira: string (nullable = true)\n",
      "\n"
     ]
    }
   ],
   "source": [
    "df.printSchema()"
   ]
  },
  {
   "cell_type": "code",
   "execution_count": 8,
   "id": "b1531063-1557-4005-a2f1-7eb5cfdc214f",
   "metadata": {},
   "outputs": [
    {
     "data": {
      "text/plain": [
       "'Há a necessidade de utilizar a função do spark createOrReplaceTempView para criar uma view/dataframe e ser manipulado com sql'"
      ]
     },
     "execution_count": 8,
     "metadata": {},
     "output_type": "execute_result"
    }
   ],
   "source": [
    "\"Há a necessidade de utilizar a função do spark createOrReplaceTempView para criar uma view/dataframe e ser manipulado com sql\""
   ]
  },
  {
   "cell_type": "code",
   "execution_count": 9,
   "id": "5f6e31d9-1f7c-472f-aa2f-3458ed3fb00a",
   "metadata": {},
   "outputs": [],
   "source": [
    "df.createOrReplaceTempView('combustiveis')"
   ]
  },
  {
   "cell_type": "code",
   "execution_count": 15,
   "id": "3d2b60e9-735a-4bfa-87e2-061c2120acfc",
   "metadata": {},
   "outputs": [
    {
     "name": "stdout",
     "output_type": "stream",
     "text": [
      "+--------------+--------------+---------+--------------------+-------------------+--------------------+----------+-----------+--------------+---------+--------+--------------+--------------+---------------+-----------------+--------+\n",
      "|Regiao - Sigla|Estado - Sigla|Municipio|             Revenda|    CNPJ da Revenda|         Nome da Rua|Numero Rua|Complemento|        Bairro|      Cep| Produto|Data da Coleta|Valor de Venda|Valor de Compra|Unidade de Medida|Bandeira|\n",
      "+--------------+--------------+---------+--------------------+-------------------+--------------------+----------+-----------+--------------+---------+--------+--------------+--------------+---------------+-----------------+--------+\n",
      "|            SE|            SP| SOROCABA|COMPETRO COMERCIO...| 00.003.188/0001-21|RUA HUMBERTO DE C...|       306|       NULL|JARDIM ZULMIRA|18061-000|GASOLINA|    01/10/2024|          5,39|           NULL|       R$ / litro|  BRANCA|\n",
      "|            SE|            SP| SOROCABA|COMPETRO COMERCIO...| 00.003.188/0001-21|RUA HUMBERTO DE C...|       306|       NULL|JARDIM ZULMIRA|18061-000|  ETANOL|    01/10/2024|          3,49|           NULL|       R$ / litro|  BRANCA|\n",
      "|            NE|            BA|    IRECE|AUTO POSTO COPA 7...| 03.961.850/0001-44|       BA 052 KM 354|        SN|       NULL|          SEDE|44900-000|GASOLINA|    01/10/2024|          6,02|           NULL|       R$ / litro|  BRANCA|\n",
      "|            NE|            BA|    IRECE|AUTO POSTO COPA 7...| 03.961.850/0001-44|       BA 052 KM 354|        SN|       NULL|          SEDE|44900-000|  ETANOL|    01/10/2024|          4,69|           NULL|       R$ / litro|  BRANCA|\n",
      "|            NE|            BA|    IRECE|            O TORRES| 14.075.105/0004-67|AVENIDA SANTOS LOPES|      1660|       NULL|        CENTRO|44900-000|GASOLINA|    01/10/2024|          5,95|           NULL|       R$ / litro|  BRANCA|\n",
      "+--------------+--------------+---------+--------------------+-------------------+--------------------+----------+-----------+--------------+---------+--------+--------------+--------------+---------------+-----------------+--------+\n",
      "only showing top 5 rows\n",
      "\n"
     ]
    }
   ],
   "source": [
    "spark.sql(\"\"\"\n",
    "    select * from combustiveis \n",
    "\"\"\").show(5)"
   ]
  },
  {
   "cell_type": "code",
   "execution_count": 14,
   "id": "bb8aa5e2-7791-47ce-9261-3d1e8a9380d5",
   "metadata": {},
   "outputs": [
    {
     "name": "stdout",
     "output_type": "stream",
     "text": [
      "+--------------+--------------+---------+-------+---------------+-----------+----------+-----------+------+---+-------+--------------+--------------+---------------+-----------------+--------+\n",
      "|Regiao - Sigla|Estado - Sigla|Municipio|Revenda|CNPJ da Revenda|Nome da Rua|Numero Rua|Complemento|Bairro|Cep|Produto|Data da Coleta|Valor de Venda|Valor de Compra|Unidade de Medida|Bandeira|\n",
      "+--------------+--------------+---------+-------+---------------+-----------+----------+-----------+------+---+-------+--------------+--------------+---------------+-----------------+--------+\n",
      "+--------------+--------------+---------+-------+---------------+-----------+----------+-----------+------+---+-------+--------------+--------------+---------------+-----------------+--------+\n",
      "\n"
     ]
    }
   ],
   "source": [
    "spark.sql(\"\"\"\n",
    "    select * from combustiveis where `Valor de Compra` IS NOT NULL\n",
    "\"\"\").show()"
   ]
  },
  {
   "cell_type": "code",
   "execution_count": 18,
   "id": "d1fd6ea1-0351-406e-acb2-8dabb47735f6",
   "metadata": {},
   "outputs": [
    {
     "data": {
      "text/plain": [
       "'regexp_replace funciona como o replace do sql'"
      ]
     },
     "execution_count": 18,
     "metadata": {},
     "output_type": "execute_result"
    }
   ],
   "source": [
    "\"regexp_replace funciona como o replace do sql\""
   ]
  },
  {
   "cell_type": "code",
   "execution_count": 19,
   "id": "bb6be097-ca74-4863-8488-ff988cf87f87",
   "metadata": {},
   "outputs": [],
   "source": [
    "view_precos = spark.sql(\"\"\"\n",
    "    select \n",
    "        `Estado - Sigla`, \n",
    "        `Produto`, \n",
    "        regexp_replace(`Valor de Venda`, \",\", \".\") as `Valor de Venda`,\n",
    "        `Unidade de Medida`\n",
    "    from combustiveis\n",
    "\"\"\")"
   ]
  },
  {
   "cell_type": "code",
   "execution_count": 21,
   "id": "d579ad65-5415-4a68-a9cd-d2c6abc3194e",
   "metadata": {},
   "outputs": [
    {
     "name": "stdout",
     "output_type": "stream",
     "text": [
      "+--------------+--------+--------------+-----------------+\n",
      "|Estado - Sigla| Produto|Valor de Venda|Unidade de Medida|\n",
      "+--------------+--------+--------------+-----------------+\n",
      "|            SP|GASOLINA|          5.39|       R$ / litro|\n",
      "|            SP|  ETANOL|          3.49|       R$ / litro|\n",
      "|            BA|GASOLINA|          6.02|       R$ / litro|\n",
      "|            BA|  ETANOL|          4.69|       R$ / litro|\n",
      "|            BA|GASOLINA|          5.95|       R$ / litro|\n",
      "+--------------+--------+--------------+-----------------+\n",
      "only showing top 5 rows\n",
      "\n"
     ]
    }
   ],
   "source": [
    "view_precos.createOrReplaceTempView('view_precos')\n",
    "view_precos.show(5)"
   ]
  },
  {
   "cell_type": "code",
   "execution_count": 22,
   "id": "9787dfd8-1543-443c-8fcf-853bf7d51051",
   "metadata": {},
   "outputs": [
    {
     "name": "stdout",
     "output_type": "stream",
     "text": [
      "+--------------+------------------+-----------------+-----------+-----------+------------------+\n",
      "|Estado - Sigla|           Produto|Unidade de Medida|menor_valor|maior_valor|         diferenca|\n",
      "+--------------+------------------+-----------------+-----------+-----------+------------------+\n",
      "|            SP|GASOLINA ADITIVADA|       R$ / litro|       5.27|       8.89| 3.620000000000001|\n",
      "|            SP|          GASOLINA|       R$ / litro|       4.89|       7.99|3.1000000000000005|\n",
      "|            SP|            ETANOL|       R$ / litro|       3.09|       5.99|2.9000000000000004|\n",
      "|            RJ|GASOLINA ADITIVADA|       R$ / litro|       5.49|       7.99|               2.5|\n",
      "|            RJ|          GASOLINA|       R$ / litro|       5.39|       7.79|2.4000000000000004|\n",
      "+--------------+------------------+-----------------+-----------+-----------+------------------+\n",
      "only showing top 5 rows\n",
      "\n"
     ]
    }
   ],
   "source": [
    "df_diferenca_precos = spark.sql(\"\"\"\n",
    "    select \n",
    "        `Estado - Sigla`,\n",
    "        `Produto`,\n",
    "        `Unidade de Medida`,\n",
    "        MIN(`Valor de Venda`) as menor_valor,\n",
    "        MAX(`Valor de Venda`) as maior_valor,\n",
    "        MAX(`Valor de Venda`) - MIN(`Valor de Venda`) as diferenca\n",
    "   from view_precos\n",
    "   group by all\n",
    "   order by diferenca DESC\n",
    "\"\"\")"
   ]
  },
  {
   "cell_type": "code",
   "execution_count": 23,
   "id": "425dc71b-0504-49f1-8f99-249a05a5dc8d",
   "metadata": {},
   "outputs": [
    {
     "name": "stdout",
     "output_type": "stream",
     "text": [
      "+--------------+------------------+-----------------+-----------+-----------+------------------+\n",
      "|Estado - Sigla|           Produto|Unidade de Medida|menor_valor|maior_valor|         diferenca|\n",
      "+--------------+------------------+-----------------+-----------+-----------+------------------+\n",
      "|            SP|GASOLINA ADITIVADA|       R$ / litro|       5.27|       8.89| 3.620000000000001|\n",
      "|            SP|          GASOLINA|       R$ / litro|       4.89|       7.99|3.1000000000000005|\n",
      "|            SP|            ETANOL|       R$ / litro|       3.09|       5.99|2.9000000000000004|\n",
      "|            RJ|GASOLINA ADITIVADA|       R$ / litro|       5.49|       7.99|               2.5|\n",
      "|            RJ|          GASOLINA|       R$ / litro|       5.39|       7.79|2.4000000000000004|\n",
      "+--------------+------------------+-----------------+-----------+-----------+------------------+\n",
      "only showing top 5 rows\n",
      "\n"
     ]
    }
   ],
   "source": [
    "df_diferenca_precos.createOrReplaceTempView('df_diferenca_precos')\n",
    "df_diferenca_precos.show(5)"
   ]
  },
  {
   "cell_type": "code",
   "execution_count": null,
   "id": "126bbfd3-9e7b-4903-be40-c49913388ddf",
   "metadata": {},
   "outputs": [],
   "source": []
  },
  {
   "cell_type": "code",
   "execution_count": null,
   "id": "77d14778-e449-49ea-80fd-dc508fde4505",
   "metadata": {},
   "outputs": [],
   "source": []
  }
 ],
 "metadata": {
  "kernelspec": {
   "display_name": "Python 3 (ipykernel)",
   "language": "python",
   "name": "python3"
  },
  "language_info": {
   "codemirror_mode": {
    "name": "ipython",
    "version": 3
   },
   "file_extension": ".py",
   "mimetype": "text/x-python",
   "name": "python",
   "nbconvert_exporter": "python",
   "pygments_lexer": "ipython3",
   "version": "3.11.6"
  }
 },
 "nbformat": 4,
 "nbformat_minor": 5
}
